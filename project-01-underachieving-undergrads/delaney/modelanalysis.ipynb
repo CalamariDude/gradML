{
 "cells": [
  {
   "cell_type": "code",
   "execution_count": 2,
   "metadata": {},
   "outputs": [],
   "source": [
    "#! /bin/env python3\n",
    "\n",
    "import pickle\n",
    "\n",
    "def load_pkl(fname):\n",
    "\twith open(fname,'rb') as f:\n",
    "\t\treturn pickle.load(f)\n",
    "\n",
    "def save_pkl(fname,obj):\n",
    "\twith open(fname,'wb') as f:\n",
    "\t\tpickle.dump(obj,f)\n",
    "\n",
    "        \n",
    "# Loading packages\n",
    "import numpy as np\n",
    "import matplotlib.pyplot as plt\n",
    "from scipy import ndimage\n",
    "import skimage\n",
    "import pandas as pd\n",
    "\n",
    "from sklearn.linear_model import LogisticRegression\n",
    "from sklearn.model_selection import StratifiedKFold\n",
    "\n",
    "# Loading in the train data\n",
    "train_data = load_pkl('../train_data.pkl')\n",
    "\n",
    "# Loading in the labels\n",
    "train_labels = np.load('../finalLabelsTrain.npy')\n",
    "\n",
    "# When attempting to only classify a and b, looking only at reduced set.\n",
    "ab_train_data = train_data[np.logical_or((train_labels == 1),(train_labels == 2))]\n",
    "ab_train_labels = train_labels[np.logical_or((train_labels == 1),(train_labels == 2))]\n",
    "\n",
    "rot_list = []\n",
    "j = 0\n",
    "\n",
    "for i in range(1600):\n",
    "    if(np.shape(ab_train_data[i])[0] < np.shape(ab_train_data[i])[1]):\n",
    "        rot_list.append(j)\n",
    "    j = j + 1\n",
    "\n",
    "rot_list = [241,242,243,244,245,246,247,250,\n",
    "           251,252,253,254,255,256,257,258,259,\n",
    "           500,501,502,503,504,505,506,507,508,509,\n",
    "           510,511,512,513,514,515,516,517,518,519]\n",
    "\n",
    "# Some things should just be thrown out\n",
    "trash_list = [240,248,249,960]\n",
    "\n",
    "# Rotating the above images by 270 degrees, seems to be the only way things went wrong\n",
    "for index in rot_list:\n",
    "    img = (ab_train_data[index])\n",
    "    lx, ly = img.shape\n",
    "    rot_img = ndimage.rotate(img, 270)\n",
    "    ab_train_data[index] = rot_img\n",
    "\n",
    "# For every image we resize to (50,50)\n",
    "for i in range(1600):\n",
    "    ab_train_data[i] = skimage.transform.resize(np.asarray(ab_train_data[i]), (50,len(np.array(ab_train_data[i])[0,:])))"
   ]
  },
  {
   "cell_type": "code",
   "execution_count": 3,
   "metadata": {},
   "outputs": [],
   "source": [
    "def get_measurements(img):\n",
    "    \n",
    "    yaxis = pd.Series([np.count_nonzero(img[i,:])*[i+1] \n",
    "           for i in np.arange(np.shape(img)[0])], name='yaxis').explode()\n",
    "    xaxis = pd.Series([np.count_nonzero(img[:,i])*[i+1] \n",
    "           for i in np.arange(np.shape(img)[1])], name='xaxis').explode()   \n",
    "    \n",
    "    yrange = (np.max(yaxis) - np.min(yaxis))\n",
    "    xrange = (np.max(xaxis) - np.min(xaxis))   \n",
    "    \n",
    "    rangediff = abs(yrange - xrange)\n",
    "    \n",
    "    return yaxis, xaxis, rangediff\n",
    "\n",
    "yaxis_lis=[]\n",
    "xaxis_lis=[]\n",
    "rangediff_lis=[]\n",
    "yargmax=[]\n",
    "xargmax=[]\n",
    "xaxismed=[]\n",
    "\n",
    "for img in ab_train_data:\n",
    "    \n",
    "    yaxis, xaxis, rangediff = get_measurements(img)\n",
    "        \n",
    "    yarg = yaxis.reset_index().groupby('yaxis').count().values.argmax()\n",
    "    xarg = xaxis.reset_index().groupby('xaxis').count().values.argmax()\n",
    "    \n",
    "    yargmax.append(yarg)\n",
    "    xargmax.append(xarg)\n",
    "    \n",
    "    yaxis_lis.append(yaxis)\n",
    "    xaxis_lis.append(xaxis)\n",
    "    xaxismed.append(xaxis.median())\n",
    "    rangediff_lis.append(rangediff)\n",
    "    \n",
    "X = np.array([np.array(x) for x in list(zip(yargmax, xaxismed, rangediff_lis, xargmax))])\n",
    "y = ab_train_labels"
   ]
  },
  {
   "cell_type": "code",
   "execution_count": 12,
   "metadata": {},
   "outputs": [],
   "source": [
    "b = []\n",
    "a = []\n",
    "\n",
    "for i in list(enumerate(ab_train_labels)):\n",
    "    if i[1] == 2:\n",
    "        b.append(i[0])\n",
    "    elif i[1] == 1:\n",
    "        a.append(i[0])"
   ]
  },
  {
   "cell_type": "code",
   "execution_count": 20,
   "metadata": {},
   "outputs": [
    {
     "data": {
      "text/plain": [
       "(array([0.0125 , 0.015  , 0.0075 , 0.0025 , 0.00875, 0.01   , 0.005  ,\n",
       "        0.01375, 0.02125, 0.0125 , 0.02   , 0.025  , 0.015  , 0.02125,\n",
       "        0.04125, 0.04   , 0.00375, 0.0825 , 0.01375, 0.0425 , 0.1225 ,\n",
       "        0.04875, 0.09625, 0.075  , 0.02875, 0.03   , 0.0275 , 0.0675 ,\n",
       "        0.02   , 0.02625, 0.01625, 0.015  , 0.005  , 0.00625, 0.     ,\n",
       "        0.     , 0.     , 0.00125, 0.     , 0.     , 0.     , 0.     ,\n",
       "        0.     , 0.     , 0.     , 0.     , 0.     , 0.     , 0.     ]),\n",
       " array([ 0,  1,  2,  3,  4,  5,  6,  7,  8,  9, 10, 11, 12, 13, 14, 15, 16,\n",
       "        17, 18, 19, 20, 21, 22, 23, 24, 25, 26, 27, 28, 29, 30, 31, 32, 33,\n",
       "        34, 35, 36, 37, 38, 39, 40, 41, 42, 43, 44, 45, 46, 47, 48, 49]),\n",
       " <a list of 49 Patch objects>)"
      ]
     },
     "execution_count": 20,
     "metadata": {},
     "output_type": "execute_result"
    },
    {
     "data": {
      "image/png": "[encoded data removed]",
      "text/plain": [
       "<Figure size 432x288 with 1 Axes>"
      ]
     },
     "metadata": {
      "needs_background": "light"
     },
     "output_type": "display_data"
    }
   ],
   "source": [
    "plt.hist(np.array(rangediff_lis)[a],bins=np.arange(0,50,1),density=True)\n",
    "plt.hist(np.array(rangediff_lis)[b],bins=np.arange(0,50,1),density=True)"
   ]
  },
  {
   "cell_type": "code",
   "execution_count": 22,
   "metadata": {},
   "outputs": [
    {
     "data": {
      "text/plain": [
       "(array([  5.,  38.,  96., 130., 110.,  86.,  76.,  56.,  49.,  29.,  29.,\n",
       "         14.,  15.,  14.,   7.,   4.,   5.,   3.,   8.,   6.,   0.,   3.,\n",
       "          1.,   2.,   1.,   3.,   0.,   1.,   0.,   0.,   0.,   2.,   0.,\n",
       "          0.,   1.,   1.,   1.,   1.,   0.,   0.,   0.,   2.,   0.,   1.,\n",
       "          0.,   0.,   0.,   0.,   0.]),\n",
       " array([ 0,  1,  2,  3,  4,  5,  6,  7,  8,  9, 10, 11, 12, 13, 14, 15, 16,\n",
       "        17, 18, 19, 20, 21, 22, 23, 24, 25, 26, 27, 28, 29, 30, 31, 32, 33,\n",
       "        34, 35, 36, 37, 38, 39, 40, 41, 42, 43, 44, 45, 46, 47, 48, 49]),\n",
       " <a list of 49 Patch objects>)"
      ]
     },
     "execution_count": 22,
     "metadata": {},
     "output_type": "execute_result"
    },
    {
     "data": {
      "image/png": "[encoded data removed]",
      "text/plain": [
       "<Figure size 432x288 with 1 Axes>"
      ]
     },
     "metadata": {
      "needs_background": "light"
     },
     "output_type": "display_data"
    }
   ],
   "source": [
    "plt.hist(np.array(xargmax)[a], bins=np.arange(0,50,1))\n",
    "plt.hist(np.array(xargmax)[b], bins=np.arange(0,50,1))"
   ]
  },
  {
   "cell_type": "code",
   "execution_count": 23,
   "metadata": {},
   "outputs": [
    {
     "data": {
      "text/plain": [
       "(array([ 0.,  0.,  0.,  3., 21., 45., 45., 78., 66., 90., 57., 80., 51.,\n",
       "        45., 36., 36., 29., 23., 14., 18.,  8.,  8., 10.,  7.,  1.,  3.,\n",
       "         9.,  0.,  0.,  1.,  3.,  1.,  1.,  4.,  1.,  2.,  0.,  1.,  0.,\n",
       "         1.,  0.,  0.,  0.,  1.,  1.,  0.,  0.,  0.,  0.]),\n",
       " array([ 0,  1,  2,  3,  4,  5,  6,  7,  8,  9, 10, 11, 12, 13, 14, 15, 16,\n",
       "        17, 18, 19, 20, 21, 22, 23, 24, 25, 26, 27, 28, 29, 30, 31, 32, 33,\n",
       "        34, 35, 36, 37, 38, 39, 40, 41, 42, 43, 44, 45, 46, 47, 48, 49]),\n",
       " <a list of 49 Patch objects>)"
      ]
     },
     "execution_count": 23,
     "metadata": {},
     "output_type": "execute_result"
    },
    {
     "data": {
      "image/png": "[encoded data removed]",
      "text/plain": [
       "<Figure size 432x288 with 1 Axes>"
      ]
     },
     "metadata": {
      "needs_background": "light"
     },
     "output_type": "display_data"
    }
   ],
   "source": [
    "plt.hist(np.array(xaxismed)[a], bins=np.arange(0,50,1))\n",
    "plt.hist(np.array(xaxismed)[b], bins=np.arange(0,50,1))"
   ]
  },
  {
   "cell_type": "code",
   "execution_count": null,
   "metadata": {},
   "outputs": [],
   "source": [
    "plt.hist(np.array(xaxismed)[a], bins=np.arange(0,50,1))\n",
    "plt.hist(np.array(xaxismed)[b], bins=np.arange(0,50,1))"
   ]
  },
  {
   "cell_type": "code",
   "execution_count": 5,
   "metadata": {},
   "outputs": [],
   "source": [
    "def run_model(X, y, penalty='l1', n_features=4):\n",
    "\n",
    "    avg_scores = []\n",
    "\n",
    "    for i in np.arange(500):\n",
    "\n",
    "        scores = []\n",
    "\n",
    "        skf = StratifiedKFold(n_splits=5, shuffle=True, random_state=np.random.randint(1,500))\n",
    "\n",
    "        skf.get_n_splits(X,y)\n",
    "\n",
    "        for train_index, test_index in skf.split(X, y):\n",
    "\n",
    "            X_train, X_test = X[train_index], X[test_index]\n",
    "            y_train, y_test = y[train_index], y[test_index]\n",
    "\n",
    "            clf = LogisticRegression(solver='liblinear', penalty=penalty).fit(X_train, y_train)\n",
    "\n",
    "            clf.predict(X_test)\n",
    "\n",
    "            scores.append(clf.score(X_test, y_test))\n",
    "\n",
    "        avg_scores.append(np.mean(scores))\n",
    "\n",
    "\n",
    "    plt.hist(avg_scores)\n",
    "    plt.xlim((min(avg_scores)-0.02,max(avg_scores)+0.02))\n",
    "    plt.axvline(np.mean(avg_scores), c='black')\n",
    "\n",
    "    if n_features == 4:\n",
    "        print(\"Mean accuracy score for \", penalty, \" penalty:\", np.mean(avg_scores))\n",
    "\n",
    "    else:\n",
    "        print(\"Mean accuracy score for \", n_features, \" features:\", np.mean(avg_scores))"
   ]
  },
  {
   "cell_type": "code",
   "execution_count": 7,
   "metadata": {},
   "outputs": [
    {
     "name": "stdout",
     "output_type": "stream",
     "text": [
      "Mean accuracy score for  l1  penalty: 0.9351324999999999\n"
     ]
    },
    {
     "data": {
      "image/png": "[encoded data removed]",
      "text/plain": [
       "<Figure size 432x288 with 1 Axes>"
      ]
     },
     "metadata": {
      "needs_background": "light"
     },
     "output_type": "display_data"
    }
   ],
   "source": [
    "run_model(X, y)"
   ]
  },
  {
   "cell_type": "code",
   "execution_count": 6,
   "metadata": {},
   "outputs": [
    {
     "name": "stdout",
     "output_type": "stream",
     "text": [
      "Mean accuracy score for  l2  penalty: 0.93512875\n"
     ]
    },
    {
     "data": {
      "image/png": "[encoded data removed]",
      "text/plain": [
       "<Figure size 432x288 with 1 Axes>"
      ]
     },
     "metadata": {
      "needs_background": "light"
     },
     "output_type": "display_data"
    }
   ],
   "source": [
    "run_model(X, y, penalty='l2')"
   ]
  },
  {
   "cell_type": "code",
   "execution_count": 10,
   "metadata": {},
   "outputs": [
    {
     "name": "stdout",
     "output_type": "stream",
     "text": [
      "Mean accuracy score for  2  features: 0.93208375\n"
     ]
    },
    {
     "data": {
      "image/png": "[encoded data removed]",
      "text/plain": [
       "<Figure size 432x288 with 1 Axes>"
      ]
     },
     "metadata": {
      "needs_background": "light"
     },
     "output_type": "display_data"
    }
   ],
   "source": [
    "X2 = np.array([np.array(x) for x in list(zip(rangediff_lis, xargmax))])\n",
    "\n",
    "run_model(X2, y, n_features=2)"
   ]
  },
  {
   "cell_type": "code",
   "execution_count": 11,
   "metadata": {},
   "outputs": [
    {
     "name": "stdout",
     "output_type": "stream",
     "text": [
      "Mean accuracy score for  3  features: 0.93070875\n"
     ]
    },
    {
     "data": {
      "image/png": "[encoded data removed]",
      "text/plain": [
       "<Figure size 432x288 with 1 Axes>"
      ]
     },
     "metadata": {
      "needs_background": "light"
     },
     "output_type": "display_data"
    }
   ],
   "source": [
    "X3 = np.array([np.array(x) for x in list(zip(rangediff_lis, xargmax, xaxismed))])\n",
    "\n",
    "run_model(X3, y, n_features=3)"
   ]
  },
  {
   "cell_type": "code",
   "execution_count": null,
   "metadata": {},
   "outputs": [],
   "source": []
  }
 ],
 "metadata": {
  "kernelspec": {
   "display_name": "Python 3",
   "language": "python",
   "name": "python3"
  },
  "language_info": {
   "codemirror_mode": {
    "name": "ipython",
    "version": 3
   },
   "file_extension": ".py",
   "mimetype": "text/x-python",
   "name": "python",
   "nbconvert_exporter": "python",
   "pygments_lexer": "ipython3",
   "version": "3.7.4"
  }
 },
 "nbformat": 4,
 "nbformat_minor": 4
}
